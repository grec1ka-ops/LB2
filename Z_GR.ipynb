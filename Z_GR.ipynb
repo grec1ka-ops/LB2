{
 "cells": [
  {
   "cell_type": "markdown",
   "id": "45650336-7a4d-4327-ac51-a6e8bb7d77fb",
   "metadata": {},
   "source": [
    "**Задание №1.** Создайте массив NumPy размером 3×3, содержащий числа от 1 до 9. Умножьте все элементы массива на 2, а затем замените все элементы больше 10 на 0. Выведите итоговый массив."
   ]
  },
  {
   "cell_type": "code",
   "execution_count": 39,
   "id": "5f1f6ca1-7996-4073-8313-3748c59341d3",
   "metadata": {},
   "outputs": [
    {
     "name": "stdout",
     "output_type": "stream",
     "text": [
      "Исходный массив: \n",
      " [[7 6 1]\n",
      " [9 4 2]\n",
      " [4 3 8]]\n",
      "Преобразованный массив: \n",
      " [[14 12  2]\n",
      " [18  8  4]\n",
      " [ 8  6 16]]\n",
      "Массив после замены на 0:\n",
      " [[0 0 2]\n",
      " [0 8 4]\n",
      " [8 6 0]]\n"
     ]
    }
   ],
   "source": [
    "import numpy as np\n",
    "arr = np.matrix(\"7, 6, 1; 9, 4, 2; 4, 3, 8\") # создание массива\n",
    "print(\"Исходный массив: \\n\", arr)\n",
    "arr = arr * 2 # умножение каждого элемента на 2\n",
    "print(\"Преобразованный массив: \\n\", arr)\n",
    "arr[arr > 10] = 0 # замена всех элементов >10 на 0\n",
    "print(\"Массив после замены на 0:\\n\", arr)"
   ]
  },
  {
   "cell_type": "markdown",
   "id": "c46d4dee-2359-46f1-97ff-73681d314e29",
   "metadata": {},
   "source": [
    "**Задание №2.** Создайте массив NumPy из 20 случайных целых чисел от 1 до 100. Найдите и выведите все элементы, которые делятся на 5 без остатка. Затем замените их на -1 и выведите обновленный массив."
   ]
  },
  {
   "cell_type": "code",
   "execution_count": 40,
   "id": "5bdb49a3-49e7-4c9d-acc5-b432f3a3ff95",
   "metadata": {},
   "outputs": [
    {
     "name": "stdout",
     "output_type": "stream",
     "text": [
      "Исходный массив: [27 90 85  6 28 28 57 87 17 47 30 35 63 66 68 43 85 52 22 35]\n",
      "Элементы, делящиеся на 5: [90 85 30 35 85 35]\n",
      "Обновленный массив: [27 -1 -1  6 28 28 57 87 17 47 -1 -1 63 66 68 43 -1 52 22 -1]\n"
     ]
    }
   ],
   "source": [
    "import numpy as np\n",
    "arr = np.random.randint(1, 101, size=20) # создание и заполнение массива\n",
    "print(\"Исходный массив:\", arr) \n",
    "d = arr % 5 == 0 # проверка деления на 5 без остатка\n",
    "arr_5 = arr[d]\n",
    "print(\"Элементы, делящиеся на 5:\", arr_5)\n",
    "arr[d] = -1 # замена эл. из прошлого шага на -1\n",
    "print(\"Обновленный массив:\", arr)"
   ]
  },
  {
   "cell_type": "markdown",
   "id": "acbc8469-74c6-4bdd-943c-045d2e722b47",
   "metadata": {},
   "source": [
    "**Задание 3.** Создайте два массива NumPy размером 1×5, заполненные случайными числами от 0 до 50:\n",
    "- Объедините эти массивы в один двумерный массив (по строкам).\n",
    "- Разделите полученный массив на два массива, каждый из которых содержит 5 элементов."
   ]
  },
  {
   "cell_type": "code",
   "execution_count": 41,
   "id": "df00c1cb-3761-4329-9bd8-3d25cd98f1e2",
   "metadata": {},
   "outputs": [
    {
     "name": "stdout",
     "output_type": "stream",
     "text": [
      "Первый массив:\n",
      " [ 5 24 41 13  8]\n",
      "Второй массив:\n",
      " [32 35  8 15 30]\n",
      "Объединенный массив:\n",
      " [[ 5 24 41 13  8]\n",
      " [32 35  8 15 30]]\n",
      "Первый разделенный массив:\n",
      " [[ 5 24 41 13  8]]\n",
      "Второй разделенный массив:\n",
      " [[32 35  8 15 30]]\n"
     ]
    }
   ],
   "source": [
    "import numpy as np\n",
    "arr1 = np.random.randint(0, 51, 5) # создание и заполнение 1го массива\n",
    "arr2 = np.random.randint(0, 51, 5) # создание и заполнение 2го массива\n",
    "print(\"Первый массив:\\n\", arr1)\n",
    "print(\"Второй массив:\\n\", arr2)\n",
    "arr = np.vstack((arr1, arr2)) # объединение массивов\n",
    "print(\"Объединенный массив:\\n\", arr)\n",
    "split1, split2 = np.split(arr, 2) # разделение массивов\n",
    "print(\"Первый разделенный массив:\\n\", split1)\n",
    "print(\"Второй разделенный массив:\\n\", split2)"
   ]
  },
  {
   "cell_type": "markdown",
   "id": "b7291f2e-ded0-4a40-a410-7446245fdf82",
   "metadata": {},
   "source": [
    "**Задание №4.** Создайте массив из 50 чисел, равномерно распределенных от -10 до 10. Вычислите сумму всех элементов, сумму положительных элементов и сумму отрицательных элементов. Выведите результаты."
   ]
  },
  {
   "cell_type": "code",
   "execution_count": 42,
   "id": "5eb28895-98bb-4f0c-8596-32d0eb3b1f21",
   "metadata": {},
   "outputs": [
    {
     "name": "stdout",
     "output_type": "stream",
     "text": [
      "Массив:\n",
      " [ -3  -1  -9   4  -3   2   7  -9  -6   4   9   0  -2   5   1   7  -4  -3\n",
      "   0   6 -10  -7  -1   8   5   6  -7   0  -9   6   0  -1   5  -9  -2  -3\n",
      "   8   9  -3   9   2   9  -1  -8 -10   3   8 -10  -5  10]\n",
      "Сумма всех элементов: 7\n",
      "Сумма положительных элементов: 133\n",
      "Сумма отрицательных элементов: -126\n"
     ]
    }
   ],
   "source": [
    "import numpy as np\n",
    "arr = np.random.randint(-10, 11, 50)\n",
    "print(\"Массив:\\n\", arr)\n",
    "v_sum = np.sum(arr) # расчет общей суммы\n",
    "print(\"Сумма всех элементов:\", v_sum)\n",
    "p_sum = np.sum(arr[arr > 0]) # сумма + элементов\n",
    "print(\"Сумма положительных элементов:\", p_sum)\n",
    "n_sum = np.sum(arr[arr < 0]) # сумма - элементов\n",
    "print(\"Сумма отрицательных элементов:\", n_sum)"
   ]
  },
  {
   "cell_type": "markdown",
   "id": "5f9bed3e-53a0-459d-a3ea-1754485c66eb",
   "metadata": {},
   "source": [
    "**Задание №5.** Создайте:\n",
    "- Единичную матрицу размером 4×4.\n",
    "- Диагональную матрицу размером 4×4 с диагональными элементами [5, 10, 15, 20] (не использовать циклы).\n",
    "\n",
    "Найдите сумму всех элементов каждой из этих матриц и сравните результаты."
   ]
  },
  {
   "cell_type": "code",
   "execution_count": 43,
   "id": "625d78e3-0cb9-46f2-95ce-331c676f2b6a",
   "metadata": {},
   "outputs": [
    {
     "name": "stdout",
     "output_type": "stream",
     "text": [
      "Единичная матрица:\n",
      " [[1. 0. 0. 0.]\n",
      " [0. 1. 0. 0.]\n",
      " [0. 0. 1. 0.]\n",
      " [0. 0. 0. 1.]]\n",
      "Диагональная матрица:\n",
      " [[ 5  0  0  0]\n",
      " [ 0 10  0  0]\n",
      " [ 0  0 15  0]\n",
      " [ 0  0  0 20]]\n",
      "Сумма элементов единичной матрицы: 4.0\n",
      "Сумма элементов диагональной матрицы: 50\n",
      "Суммы не равны.\n"
     ]
    }
   ],
   "source": [
    "import numpy as np\n",
    "matrix = np.eye(4) # создание единичной матрицы\n",
    "print(\"Единичная матрица:\\n\", matrix)\n",
    "d_el = np.array([5, 10, 15, 20]) \n",
    "d_matrix = np.diag(d_el) # диагональная матрица\n",
    "print(\"Диагональная матрица:\\n\", d_matrix)\n",
    "sum_m = np.sum(matrix) # сумма 1ой матрицы\n",
    "sum_d = np.sum(d_matrix) # сумма диагональной матрицы\n",
    "print(\"Сумма элементов единичной матрицы:\", sum_m)\n",
    "print(\"Сумма элементов диагональной матрицы:\", sum_d)\n",
    "if sum_m == sum_d:\n",
    "    print(\"Суммы равны.\")\n",
    "else:\n",
    "    print(\"Суммы не равны.\")"
   ]
  },
  {
   "cell_type": "markdown",
   "id": "022e10b4-e058-4024-b44f-3cd6ce46c44e",
   "metadata": {},
   "source": [
    "**Задание №6.** Создайте две квадратные матрицы NumPy размером 3×3, заполненные случайными целыми числами от 1 до 20. Вычислите и выведите:\n",
    "- Их сумму\n",
    "- Их разность\n",
    "- Их поэлементное произведение"
   ]
  },
  {
   "cell_type": "code",
   "execution_count": 44,
   "id": "579353cb-6bb6-4a4e-b4f9-b699e743ed21",
   "metadata": {},
   "outputs": [
    {
     "name": "stdout",
     "output_type": "stream",
     "text": [
      "Первая матрица:\n",
      " [[ 2 17 10]\n",
      " [12  8  8]\n",
      " [10  6  4]]\n",
      "Вторая матрица:\n",
      " [[12  1 13]\n",
      " [ 3 20  8]\n",
      " [ 7  8 19]]\n",
      "Сумма:\n",
      " [[14 18 23]\n",
      " [15 28 16]\n",
      " [17 14 23]]\n",
      "Разность:\n",
      " [[-10  16  -3]\n",
      " [  9 -12   0]\n",
      " [  3  -2 -15]]\n",
      "Произведение:\n",
      " [[ 24  17 130]\n",
      " [ 36 160  64]\n",
      " [ 70  48  76]]\n"
     ]
    }
   ],
   "source": [
    "import numpy as np\n",
    "arr1 = np.random.randint(1, 21, (3, 3)) # создание 1й матрицы 3*3\n",
    "print(\"Первая матрица:\\n\", arr1)\n",
    "arr2 = np.random.randint(1, 21, (3, 3)) # создание 2й матрицы 3*3\n",
    "print(\"Вторая матрица:\\n\", arr2)\n",
    "sm = arr1 + arr2\n",
    "print(\"Сумма:\\n\", sm)\n",
    "raz = arr1 - arr2\n",
    "print(\"Разность:\\n\", raz)\n",
    "pr = arr1 * arr2\n",
    "print(\"Произведение:\\n\", pr)"
   ]
  },
  {
   "cell_type": "markdown",
   "id": "3be8955c-45f4-4726-9761-4cbd79b157a2",
   "metadata": {},
   "source": [
    "**Задание №7.** Создайте две матрицы NumPy:\n",
    "- Первую размером 2×3, заполненную случайными числами от 1 до 10.\n",
    "- Вторую размером 3×2, заполненную случайными числами от 1 до 10.\n",
    "\n",
    "Выполните матричное умножение ( *@* или *np.dot* ) и выведите результат."
   ]
  },
  {
   "cell_type": "code",
   "execution_count": 45,
   "id": "09cf5c30-e4f8-47df-92e4-d8597d75b9e9",
   "metadata": {},
   "outputs": [
    {
     "name": "stdout",
     "output_type": "stream",
     "text": [
      "Первая матрица:\n",
      " [[ 2  3 10]\n",
      " [ 2  6 10]]\n",
      "Вторая матрица:\n",
      " [[10  5]\n",
      " [10  6]\n",
      " [10  5]]\n",
      "Матричное умножение:\n",
      " [[150  78]\n",
      " [180  96]]\n"
     ]
    }
   ],
   "source": [
    "import numpy as np\n",
    "arr1 = np.random.randint(1, 11, (2, 3)) # создание 1й матрицы 2*3\n",
    "print(\"Первая матрица:\\n\", arr1)\n",
    "arr2 = np.random.randint(1, 11, (3, 2)) # создание 2й матрицы 3*2\n",
    "print(\"Вторая матрица:\\n\", arr2)\n",
    "pr_m = arr1 @ arr2 # матричное умножение\n",
    "print(\"Матричное умножение:\\n\", pr_m)"
   ]
  },
  {
   "cell_type": "markdown",
   "id": "2d9a7aa0-7979-4125-a790-c67d2e39aedc",
   "metadata": {},
   "source": [
    "**Задание №8.** Создайте случайную квадратную матрицу 3×3. Найдите и выведите:\n",
    "- Определитель этой матрицы\n",
    "- Обратную матрицу (если существует, иначе выведите сообщение, что матрица\n",
    "вырождена)\n",
    "\n",
    "Используйте функции *np.linalg.det* и *np.linalg.inv*."
   ]
  },
  {
   "cell_type": "code",
   "execution_count": 46,
   "id": "c334b3a7-0faa-4a7d-837c-2de3f9dfbdda",
   "metadata": {},
   "outputs": [
    {
     "name": "stdout",
     "output_type": "stream",
     "text": [
      "Исходная матрица:\n",
      " [[3 2 2]\n",
      " [1 6 6]\n",
      " [5 2 5]]\n",
      "Определитель матрицы: 47.999999999999986\n",
      "Обратная матрица:\n",
      " [[ 3.75000000e-01 -1.25000000e-01 -2.22044605e-17]\n",
      " [ 5.20833333e-01  1.04166667e-01 -3.33333333e-01]\n",
      " [-5.83333333e-01  8.33333333e-02  3.33333333e-01]]\n"
     ]
    }
   ],
   "source": [
    "import numpy as np\n",
    "matrix = np.random.randint(1, 10, (3, 3)) # создание матрицы 3*3\n",
    "print(\"Исходная матрица:\\n\", matrix)\n",
    "d = np.linalg.det(matrix) # нахождение определителя\n",
    "print(\"Определитель матрицы:\", d)\n",
    "if d != 0:\n",
    "    o_matrix = np.linalg.inv(matrix) # создание обратной матрицы\n",
    "    print(\"Обратная матрица:\\n\", o_matrix)\n",
    "else:\n",
    "    print(\"Матрица вырождена, обратной матрицы не существует.\")"
   ]
  },
  {
   "cell_type": "markdown",
   "id": "beeef890-f663-4e85-99ac-0559f134e709",
   "metadata": {},
   "source": [
    "**Задание №9.** Создайте матрицу NumPy размером 4×4, содержащую случайные целые числа от 1 до 50. Выведите:\n",
    "- Исходную матрицу\n",
    "- Транспонированную матрицу\n",
    "- След матрицы (сумму элементов на главной диагонали)\n",
    "\n",
    "Используйте *np.trace* для нахождения следа."
   ]
  },
  {
   "cell_type": "code",
   "execution_count": 47,
   "id": "7dce4393-61db-48da-b9b8-ed7948bd7201",
   "metadata": {},
   "outputs": [
    {
     "name": "stdout",
     "output_type": "stream",
     "text": [
      "Исходная матрица:\n",
      " [[31 40  2 23]\n",
      " [31 47 26 25]\n",
      " [34 50  3 19]\n",
      " [16 19 10 43]]\n",
      "Транспонированная матрица:\n",
      " [[31 31 34 16]\n",
      " [40 47 50 19]\n",
      " [ 2 26  3 10]\n",
      " [23 25 19 43]]\n",
      "След матрицы: 124\n"
     ]
    }
   ],
   "source": [
    "import numpy as np\n",
    "matrix = np.random.randint(1, 51, (4, 4)) # создание матрицы 4*4\n",
    "print(\"Исходная матрица:\\n\", matrix)\n",
    "t_matrix = matrix.T # создание транспонированной матрицы\n",
    "print(\"Транспонированная матрица:\\n\", t_matrix)\n",
    "trace = np.trace(matrix) # сумма элементов на главной диагонали\n",
    "print(\"След матрицы:\", trace)"
   ]
  },
  {
   "attachments": {
    "2389f095-4b7c-408f-97e0-647492016523.png": {
     "image/png": "[encoded data removed]"
    }
   },
   "cell_type": "markdown",
   "id": "d6007f09-7e93-4bd3-95ff-2b2cb8568f9a",
   "metadata": {},
   "source": [
    "**Задание №10.** Решите систему линейных уравнений вида:\n",
    "\n",
    "![image.png](attachment:2389f095-4b7c-408f-97e0-647492016523.png)\n",
    "\n",
    "Используйте матричное представление Ax = B , где A – матрица коэффициентов, x – вектор неизвестных, B – вектор правой части. Решите систему с помощью *np.linalg.solve* и выведите результат."
   ]
  },
  {
   "cell_type": "code",
   "execution_count": 48,
   "id": "141333e6-6b42-4b19-9412-0a00de3e191a",
   "metadata": {},
   "outputs": [
    {
     "name": "stdout",
     "output_type": "stream",
     "text": [
      "Матрица коэффициентов:\n",
      " [[ 2  3 -1]\n",
      " [ 4 -1  2]\n",
      " [-3  5  4]]\n",
      "Вектор правой части:\n",
      " [[ 2  3 -1]\n",
      " [ 4 -1  2]\n",
      " [-3  5  4]]\n",
      " Решение системы: [1.63963964 0.57657658 0.00900901]\n"
     ]
    }
   ],
   "source": [
    "import numpy as np\n",
    "A = np.array([\n",
    "    [2,  3, -1],  # коэффициенты 1го уравнения\n",
    "    [4, -1,  2],  # коэффициенты 2го уравнения\n",
    "    [-3, 5,  4]   # коэффициенты 3го уравнения\n",
    "])\n",
    "print(\"Матрица коэффициентов:\\n\", A)\n",
    "B = np.array([5, 6, -2])  # правые части уравнений\n",
    "print(\"Вектор правой части:\\n\", A)\n",
    "s_r = np.linalg.solve(A, B)\n",
    "print(\" Решение системы:\", s_r) "
   ]
  },
  {
   "cell_type": "markdown",
   "id": "2122404e-de57-43fb-b996-68b81beb9062",
   "metadata": {},
   "source": [
    "**ИНДИВИДУАЛЬНОЕ ЗАДАНИЕ | В-11**\n",
    "\n",
    "Решите индивидуальное задание согласно варианта. Каждое задание предусматривает построение системы линейных уравнений. Решите полученную систему уравнений с использованием библиотеки NumPy. Для решения системы используйте метод Крамера и матричный метод. Сравните полученные\n",
    "результаты, с результатами, полученными с помощью *np.linalg.solve*.\n",
    "\n",
    "*Условие В-11.*  Смешивание растворов. Химик смешивает три раствора с разными концентрациями вещества. В первом растворе концентрация 10%, во втором — 20%, в третьем — 30%. Нужно получить 1000 мл раствора с концентрацией 18%. При этом второго раствора должно быть в два раза больше, чем первого. Сколько миллилитров каждого раствора нужно взять?"
   ]
  },
  {
   "attachments": {
    "b419988d-7b34-442e-a934-34304128e9e9.png": {
     "image/png": "[encoded data removed]"
    }
   },
   "cell_type": "markdown",
   "id": "e3e82429-fa37-41a6-95c2-fc881c34eb91",
   "metadata": {},
   "source": [
    "**Пояснение к решению | Матричный метод**\n",
    "\n",
    "Пусть:\n",
    "- x — количество первого раствора (мл),\n",
    "- y — количество второго раствора (мл),\n",
    "- z — количество третьего раствора (мл).\n",
    "\n",
    "*Уравнения:*\n",
    "\n",
    "$x + y + z = 1000$ - общий объем,\n",
    "\n",
    "$y = 2x$ - соотношение 2го и 1го растворов,\n",
    "\n",
    "$0.1x + 0.2y + 0.3z = 0.18×1000$ - концентрация итогового раствора\n",
    "\n",
    "*Подставим **y = 2x** в остальные уравнения и получим систему:*\n",
    "\n",
    "![image (1).png](attachment:b419988d-7b34-442e-a934-34304128e9e9.png)\n"
   ]
  },
  {
   "cell_type": "code",
   "execution_count": 49,
   "id": "e902b152-0402-41ae-a464-f6bf40e67613",
   "metadata": {},
   "outputs": [
    {
     "name": "stdout",
     "output_type": "stream",
     "text": [
      "Результат:\n",
      " x = 299.99999999999994 мл, y = 599.9999999999999 мл, z = 100.00000000000007 мл\n"
     ]
    }
   ],
   "source": [
    "import numpy as np\n",
    "A = np.array([\n",
    "    [3, 1],\n",
    "    [0.5, 0.3]\n",
    "])\n",
    "B = np.array([1000, 180])\n",
    "x_z = np.linalg.solve(A, B) # решение СЛУ, нахождение x и z\n",
    "x, z = x_z[0], x_z[1]\n",
    "y = 2 * x\n",
    "print(\"Результат:\\n\", \"x =\", x, \"мл, y =\", y, \"мл, z =\", z, \"мл\")"
   ]
  },
  {
   "cell_type": "code",
   "execution_count": null,
   "id": "aa090a6c-0955-4832-973c-550888642903",
   "metadata": {},
   "outputs": [],
   "source": []
  }
 ],
 "metadata": {
  "kernelspec": {
   "display_name": "Python 3 (ipykernel)",
   "language": "python",
   "name": "python3"
  },
  "language_info": {
   "codemirror_mode": {
    "name": "ipython",
    "version": 3
   },
   "file_extension": ".py",
   "mimetype": "text/x-python",
   "name": "python",
   "nbconvert_exporter": "python",
   "pygments_lexer": "ipython3",
   "version": "3.12.7"
  }
 },
 "nbformat": 4,
 "nbformat_minor": 5
}
