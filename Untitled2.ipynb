{
 "cells": [
  {
   "cell_type": "code",
   "execution_count": 1,
   "id": "0ce3ce1c-2d5f-48f6-9781-d43d51f2615a",
   "metadata": {},
   "outputs": [
    {
     "name": "stdout",
     "output_type": "stream",
     "text": [
      "Исходный массив: \n",
      " [[7 6 1]\n",
      " [9 4 2]\n",
      " [4 3 8]]\n",
      "Матрица после поэлементного умножения на k: \n",
      " [[14 12  2]\n",
      " [18  8  4]\n",
      " [ 8  6 16]]\n"
     ]
    }
   ],
   "source": [
    "import numpy as np\n",
    "arr = np.matrix(\"7, 6, 1; 9, 4, 2; 4, 3, 8\") # создание массива\n",
    "print(\"Исходный массив: \\n\", arr)\n",
    "k = 2\n",
    "arr = arr * k # умножение каждого элемента на 2\n",
    "print(\"Матрица после поэлементного умножения на k: \\n\", arr)"
   ]
  },
  {
   "cell_type": "code",
   "execution_count": 3,
   "id": "bf973ca2-fb23-4743-9b7a-3fd7b6d1cf29",
   "metadata": {},
   "outputs": [
    {
     "name": "stdout",
     "output_type": "stream",
     "text": [
      "Сумма np.add():\n",
      " [[11 22 33]\n",
      " [44 55 66]]\n",
      "Разность np.subtract():\n",
      " [[ -9 -18 -27]\n",
      " [-36 -45 -54]]\n"
     ]
    }
   ],
   "source": [
    "import numpy as np\n",
    "arr1 = np.array([[1, 2, 3], \n",
    "              [4, 5, 6]])\n",
    "arr2 = np.array([[10, 20, 30], \n",
    "              [40, 50, 60]])\n",
    "s_matrix = np.add(arr1, arr2) # сумма матриц\n",
    "d_matrix = np.subtract(arr1, arr2) # разность матриц\n",
    "print(\"Сумма np.add():\\n\", s_matrix)\n",
    "print(\"Разность np.subtract():\\n\", d_matrix)"
   ]
  },
  {
   "cell_type": "code",
   "execution_count": 5,
   "id": "37995021-8385-41bb-88da-76d62638748f",
   "metadata": {},
   "outputs": [
    {
     "name": "stdout",
     "output_type": "stream",
     "text": [
      "Решение методом Крамера:\n",
      "x = 299.9999999999999 мл\n",
      "y = 599.9999999999998 мл\n",
      "z = 100.00000000000001 мл\n"
     ]
    }
   ],
   "source": [
    "import numpy as np\n",
    "# Матрица коэффициентов\n",
    "A = np.array([\n",
    "    [3, 1],\n",
    "    [0.5, 0.3]\n",
    "])\n",
    "# Вектор правых частей\n",
    "B = np.array([1000, 180])\n",
    "# Главный определитель\n",
    "det_A = np.linalg.det(A)\n",
    "# Матрицы для нахождения x и z\n",
    "A_x = A.copy()\n",
    "A_z = A.copy()\n",
    "# Замена первого столбеца на вектор B для нахождения x\n",
    "A_x[:, 0] = B\n",
    "# Замена второго столбеца на вектор B для нахождения z\n",
    "A_z[:, 1] = B\n",
    "# Определители для x и z\n",
    "det_Ax = np.linalg.det(A_x)\n",
    "det_Az = np.linalg.det(A_z)\n",
    "# Решения\n",
    "x = det_Ax / det_A\n",
    "z = det_Az / det_A\n",
    "# Вычисление y\n",
    "y = 2 * x\n",
    "print(f\"Решение методом Крамера:\")\n",
    "print(f\"x =\", x, \"мл\")\n",
    "print(f\"y =\", y, \"мл\")\n",
    "print(f\"z =\", z, \"мл\")"
   ]
  },
  {
   "cell_type": "code",
   "execution_count": null,
   "id": "216f0e0a-0fab-4835-89f7-5c61587a390b",
   "metadata": {},
   "outputs": [],
   "source": []
  }
 ],
 "metadata": {
  "kernelspec": {
   "display_name": "Python 3 (ipykernel)",
   "language": "python",
   "name": "python3"
  },
  "language_info": {
   "codemirror_mode": {
    "name": "ipython",
    "version": 3
   },
   "file_extension": ".py",
   "mimetype": "text/x-python",
   "name": "python",
   "nbconvert_exporter": "python",
   "pygments_lexer": "ipython3",
   "version": "3.12.7"
  }
 },
 "nbformat": 4,
 "nbformat_minor": 5
}
